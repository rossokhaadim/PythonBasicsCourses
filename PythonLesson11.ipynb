{
  "nbformat": 4,
  "nbformat_minor": 0,
  "metadata": {
    "colab": {
      "provenance": []
    },
    "kernelspec": {
      "name": "python3",
      "display_name": "Python 3"
    },
    "language_info": {
      "name": "python"
    }
  },
  "cells": [
    {
      "cell_type": "markdown",
      "source": [
        "# Крок 1\n",
        "\n",
        "\n",
        "> Створіть новий файл .py у пайчарм"
      ],
      "metadata": {
        "id": "umq4z1CKx9Tg"
      }
    },
    {
      "cell_type": "code",
      "execution_count": null,
      "metadata": {
        "id": "rdgvfRfKx5Yd"
      },
      "outputs": [],
      "source": []
    },
    {
      "cell_type": "markdown",
      "source": [
        "# Крок 2\n",
        "\n",
        "\n",
        "> Імпортуй бібліотеку os\n"
      ],
      "metadata": {
        "id": "hO0wZ9V_yMAH"
      }
    },
    {
      "cell_type": "markdown",
      "source": [
        "# Крок 3\n",
        "\n",
        "\n",
        "> За допомогою бібліотеки os створіть дерикторію(папку) files"
      ],
      "metadata": {
        "id": "sHJQR1wEyMrB"
      }
    },
    {
      "cell_type": "markdown",
      "source": [
        "# Крок 4\n",
        "\n",
        "\n",
        "> Зміни поточну дерикторію на дерикторію files\n"
      ],
      "metadata": {
        "id": "71PJXsH6yNH7"
      }
    },
    {
      "cell_type": "markdown",
      "source": [
        "# Крок 5\n",
        "\n",
        "\n",
        "> Створи цикл котрий ітерує range від 1 до 10(не включно), в середині циклу створи 9 нових папок використовуючи числа, котрі повертає range"
      ],
      "metadata": {
        "id": "mDSR5HM8y3zC"
      }
    },
    {
      "cell_type": "markdown",
      "source": [
        "# Крок 6\n",
        "\n",
        "\n",
        "> В будь-якій з тільки що створених папок створи TXT файл (руками, без використання бібліотек)"
      ],
      "metadata": {
        "id": "DzA5Tk7Uy4Jk"
      }
    },
    {
      "cell_type": "code",
      "source": [],
      "metadata": {
        "id": "J9yMQDfajF2L"
      },
      "execution_count": null,
      "outputs": []
    },
    {
      "cell_type": "markdown",
      "source": [
        "# Крок 7\n",
        "\n",
        "Використай метод isfile та перевір створений файл."
      ],
      "metadata": {
        "id": "tJBdpSD7jGpP"
      }
    },
    {
      "cell_type": "markdown",
      "source": [
        "# Крок 8\n",
        "\n",
        "За допомогою бібліотеки os видали дерикторії з 7-9"
      ],
      "metadata": {
        "id": "H6PQCtYxj4To"
      }
    },
    {
      "cell_type": "markdown",
      "source": [
        "# Крок 9\n",
        "\n",
        "Збережи код з pycharm у новий блокнот Google colab"
      ],
      "metadata": {
        "id": "MxQVtAxekURE"
      }
    },
    {
      "cell_type": "code",
      "source": [
        "import os\n",
        "os.mkdir(\"files\")\n",
        "os.chdir(\"./files\")\n",
        "for i in range(1,10):\n",
        "    os.mkdir(str(i))"
      ],
      "metadata": {
        "id": "VfTQQMXv4e-Z"
      },
      "execution_count": null,
      "outputs": []
    },
    {
      "cell_type": "code",
      "source": [
        "import os\n",
        "os.chdir('./files/1')\n",
        "if os.path.isfile('hi.txt') is True: print(\"Yeah, it`s file\")\n",
        "else: print(\"It`s a file only in your dreams\")\n",
        "print(os.getcwd())\n",
        "os.chdir('../')\n",
        "print(os.getcwd())\n",
        "for i in range(7,10):\n",
        "    os.rmdir(str(i))\n",
        "print(os.listdir('./'))"
      ],
      "metadata": {
        "id": "-4aF6yl47u-C"
      },
      "execution_count": null,
      "outputs": []
    },
    {
      "cell_type": "code",
      "source": [],
      "metadata": {
        "id": "SD5UH-gt4jRh"
      },
      "execution_count": null,
      "outputs": []
    },
    {
      "cell_type": "markdown",
      "source": [
        "# Частина 2. Необов'язкова\n",
        "\n",
        "\n",
        "> Використовуючи бібліотеку time створіть декоратор котрий буде повертатися час роботи функції до якої застосовується декоратор."
      ],
      "metadata": {
        "id": "c7uMH2XmkWI1"
      }
    },
    {
      "cell_type": "code",
      "source": [
        "import time\n",
        "\n",
        "def decor(func):\n",
        "  def work():\n",
        "    time1 = time.time()\n",
        "    func()\n",
        "    time2 = time.time()\n",
        "    time_work = time2-time1\n",
        "    print(time_work)\n",
        "  return work()\n",
        "\n",
        "\n",
        "@decor\n",
        "def hello():\n",
        "  print(\"hello\")\n",
        "\n"
      ],
      "metadata": {
        "id": "EtIVmUKl8dDh",
        "outputId": "c5c955e6-a916-40b6-97b8-f3281a0abba7",
        "colab": {
          "base_uri": "https://localhost:8080/"
        }
      },
      "execution_count": null,
      "outputs": [
        {
          "output_type": "stream",
          "name": "stdout",
          "text": [
            "hello\n",
            "0.0005128383636474609\n"
          ]
        }
      ]
    }
  ]
}