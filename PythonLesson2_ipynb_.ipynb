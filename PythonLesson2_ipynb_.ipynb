{
  "nbformat": 4,
  "nbformat_minor": 0,
  "metadata": {
    "colab": {
      "provenance": []
    },
    "kernelspec": {
      "name": "python3",
      "display_name": "Python 3"
    },
    "language_info": {
      "name": "python"
    }
  },
  "cells": [
    {
      "cell_type": "markdown",
      "source": [
        "### Завдання 1\n",
        "\n",
        "> Розкажіть про 3 улюблені фільми, створіть змінні котрі будуть зберігати назву фільмів"
      ],
      "metadata": {
        "id": "1rrXEZf_5wI2"
      }
    },
    {
      "cell_type": "code",
      "source": [
        "Hobbit=\"Hobbit\"\n",
        "The_Pursuit_of_Happyness=\"The Pursuit of Happyness\"\n",
        "Forrest_Gump=\"Forrest Gump\""
      ],
      "metadata": {
        "id": "Z8nmSanw6C5w"
      },
      "execution_count": null,
      "outputs": []
    },
    {
      "cell_type": "markdown",
      "source": [
        "### Завдання 2\n",
        "\n",
        "\n",
        "> Виведи змінні користуючись функцією print()\n",
        "\n",
        "Складніше: додай роздільник функції print\n",
        "\n",
        "*якщо потрібно, створюй додаткові змінні*\n",
        "\n",
        "**Резултат:**\n",
        "\n",
        "Значення 1\n",
        "\n",
        "Значення 2\n",
        "\n",
        "Значення 3"
      ],
      "metadata": {
        "id": "XdVo6hgQ5272"
      }
    },
    {
      "cell_type": "code",
      "source": [
        "print(Hobbit)\n",
        "print(The_Pursuit_of_Happyness)\n",
        "print(Forrest_Gump)"
      ],
      "metadata": {
        "id": "lFXuFj2u7adk",
        "colab": {
          "base_uri": "https://localhost:8080/"
        },
        "outputId": "eef12f11-c17d-486b-b7f8-f1cde5895700"
      },
      "execution_count": null,
      "outputs": [
        {
          "output_type": "stream",
          "name": "stdout",
          "text": [
            "Hobbit\n",
            "The Pursuit of Happyness\n",
            "Forrest Gump\n"
          ]
        }
      ]
    },
    {
      "cell_type": "markdown",
      "source": [
        "### Завдання 3\n",
        "\n",
        "\n",
        "> Створіть для кожного фільму унікальну змінну котра буде містити тривалість у хвилинах, за прикладом заняття"
      ],
      "metadata": {
        "id": "CkVx1eLA54bl"
      }
    },
    {
      "cell_type": "code",
      "source": [
        "Hobbit_time=169\n",
        "The_Pursuit_of_Happyness_time=117\n",
        "Forrest_Gump_time=142\n"
      ],
      "metadata": {
        "id": "Ma2Posw06Etu"
      },
      "execution_count": null,
      "outputs": []
    },
    {
      "cell_type": "markdown",
      "source": [
        "### Завдання 4\n",
        "\n",
        "\n",
        "> За допомогою оператора додавання (+) підрахуй сумарну тривалість 3 фільмів і збережи їх до нової змінної."
      ],
      "metadata": {
        "id": "Xynk5j7-553N"
      }
    },
    {
      "cell_type": "code",
      "source": [
        "Sum=Hobbit_time+The_Pursuit_of_Happyness_time+Forrest_Gump_time"
      ],
      "metadata": {
        "id": "WI6gpzfR58Z9"
      },
      "execution_count": null,
      "outputs": []
    },
    {
      "cell_type": "markdown",
      "source": [
        "### Завдання 5\n",
        "\n",
        "\n",
        "> Розділи сумарне значенння на 3 - це середня тривалість кожного фільму\n"
      ],
      "metadata": {
        "id": "1V5bAj4058q1"
      }
    },
    {
      "cell_type": "code",
      "source": [
        "Sum/=3"
      ],
      "metadata": {
        "id": "fCgsXfsNBi3Z"
      },
      "execution_count": null,
      "outputs": []
    },
    {
      "cell_type": "markdown",
      "source": [
        "### Завдання 6\n",
        "\n",
        "\n",
        "\n",
        "> Роздрукуй кожен фільм та його тривалість\n",
        "\n",
        "**Резултат:**\n",
        "\n",
        "Фільм 1 тривалість\n",
        "\n",
        "Фільм 2 тривалість\n",
        "\n",
        "Фільм 3 тривалість"
      ],
      "metadata": {
        "id": "heLASQsDA2fP"
      }
    },
    {
      "cell_type": "code",
      "source": [
        "print(Hobbit,Hobbit_time,\"minutes\")\n",
        "print(The_Pursuit_of_Happyness,The_Pursuit_of_Happyness_time,\"minutes\")\n",
        "print(Forrest_Gump,Forrest_Gump_time,\"minutes\")"
      ],
      "metadata": {
        "id": "PtNYEgz9B-Pn",
        "colab": {
          "base_uri": "https://localhost:8080/"
        },
        "outputId": "502131b7-da96-4ab3-c3fd-652b6adb7143"
      },
      "execution_count": null,
      "outputs": [
        {
          "output_type": "stream",
          "name": "stdout",
          "text": [
            "Hobbit 169 minutes\n",
            "The Pursuit of Happyness 117 minutes\n",
            "Forrest Gump 142 minutes\n"
          ]
        }
      ]
    }
  ]
}