{
  "nbformat": 4,
  "nbformat_minor": 0,
  "metadata": {
    "colab": {
      "provenance": []
    },
    "kernelspec": {
      "name": "python3",
      "display_name": "Python 3"
    },
    "language_info": {
      "name": "python"
    }
  },
  "cells": [
    {
      "cell_type": "markdown",
      "source": [
        "# Вступ.\n",
        "\n",
        "\n",
        "> Уявіть. що ви хочете дізнатися від своїх друзів про їх улюблене кіно. Але не спілкуючись безпосередньо, а написавши програму на python\n"
      ],
      "metadata": {
        "id": "zJuskMVOHsFg"
      }
    },
    {
      "cell_type": "markdown",
      "source": [
        "# Завдання 1.\n",
        "\n",
        "\n",
        "> Створіть чотири змінні: назва фільму, рік фільму, опис фільму, фільм має оскар. Вони мають зберігати інформацію котру вводить користувач (згадайте про використання input). Введіть інформацію про улюблене кіно друзів (можете створити багато змінних з різними фільмами)\n",
        "\n"
      ],
      "metadata": {
        "id": "Pn6y3jeZxa16"
      }
    },
    {
      "cell_type": "code",
      "source": [
        "name = input()\n",
        "year = input()\n",
        "description = input()\n",
        "oscar = input()"
      ],
      "metadata": {
        "id": "RG-lsnrmyFMt",
        "outputId": "ab89ae7d-5ba4-45dc-ef60-015f82177645",
        "colab": {
          "base_uri": "https://localhost:8080/"
        }
      },
      "execution_count": null,
      "outputs": [
        {
          "name": "stdout",
          "output_type": "stream",
          "text": [
            "Dimas\n",
            "2005\n",
            "Real man\n",
            "Yes\n"
          ]
        }
      ]
    },
    {
      "cell_type": "markdown",
      "source": [
        "# Завдання 2.\n",
        "  \n",
        "\n",
        "> Роздрукуйте всю інформацію про фільм за допопогою ОДНОГО print, кожне значення виведіть з нового рядка."
      ],
      "metadata": {
        "id": "ufEZGjVZyWan"
      }
    },
    {
      "cell_type": "code",
      "source": [
        "print(name, year, description, oscar, sep='\\n')"
      ],
      "metadata": {
        "id": "YtMcxJv_y4vF",
        "outputId": "73f9dab1-1044-41bb-cdde-2a9a8776da04",
        "colab": {
          "base_uri": "https://localhost:8080/"
        }
      },
      "execution_count": null,
      "outputs": [
        {
          "output_type": "stream",
          "name": "stdout",
          "text": [
            "Dimas\n",
            "2005\n",
            "Real man\n",
            "Yes\n"
          ]
        }
      ]
    },
    {
      "cell_type": "markdown",
      "source": [
        "# Завдання 3.\n",
        "\n",
        "\n",
        "> Роздрукуйте всю інформацію про типи даних кожної змінної використавши f-string\n",
        "\n",
        "### **Результат має виглядати:**\n",
        "\n",
        "Назва змінної 1 = тип данних змінної 1\n",
        "Назва змінної 2 = тип данних змінної 2\n",
        "..."
      ],
      "metadata": {
        "id": "IZB6kcvfy7Q5"
      }
    },
    {
      "cell_type": "code",
      "source": [
        "name_type = str(type(name))\n",
        "name_type=name_type.strip(\"<class >\")\n",
        "name_type=name_type.strip(\"'\")\n",
        "year_type = str(type(year))\n",
        "year_type = year_type.strip(\"<class >\")\n",
        "year_type = year_type.strip(\"'\")\n",
        "description_type = str(type(description))\n",
        "description_type = description_type.strip(\"<class >\")\n",
        "description_type = description_type.strip(\"'\")\n",
        "oscar_type = str(type(oscar))\n",
        "oscar_type = oscar_type.strip(\"<class >\")\n",
        "oscar_type = oscar_type.strip(\"'\")\n",
        "print(f\"{name_type=} {year_type=} {description_type=} {oscar_type=}\")"
      ],
      "metadata": {
        "id": "ILG0ONLTzh_f",
        "outputId": "74f6851a-d2e3-44d0-fcda-9f80a3fce15d",
        "colab": {
          "base_uri": "https://localhost:8080/"
        }
      },
      "execution_count": null,
      "outputs": [
        {
          "output_type": "stream",
          "name": "stdout",
          "text": [
            "name_type='str' year_type='str' description_type='str' oscar_type='str'\n"
          ]
        }
      ]
    },
    {
      "cell_type": "markdown",
      "source": [
        "# Завдання 4.\n",
        "\n",
        "\n",
        "\n",
        "> Перетворіть кожен тип даних на той тип, котрий є реальним. Наприклад якщо ви вели рік - пертворіть його у числовий тип данних, якщо ввели ТАК або НІ - на булевий тип(True False)\n",
        "\n"
      ],
      "metadata": {
        "id": "5KYFqO4IziZB"
      }
    },
    {
      "cell_type": "code",
      "source": [
        "name = str(name)\n",
        "year = int(year)\n",
        "description = str(description)\n",
        "oscar = bool(oscar)"
      ],
      "metadata": {
        "id": "7KIpUK3Z0CqF"
      },
      "execution_count": null,
      "outputs": []
    },
    {
      "cell_type": "markdown",
      "source": [
        "# Завдання 5.\n",
        "\n",
        "\n",
        "> До змінних які зберігають тип данних РЯДОК застосуй наступні методі: upper, split, count, find\n"
      ],
      "metadata": {
        "id": "EO2tDfVc0D2D"
      }
    },
    {
      "cell_type": "code",
      "source": [
        "print(name.upper())\n",
        "print(description.upper())\n",
        "print('\\n'.join(name.split()))\n",
        "print('\\n'.join(description.split()))\n",
        "print(name.count('s', 0, len(name)))\n",
        "print(description.count('a', 0, len(description)))\n",
        "if name.find('as') != -1:\n",
        "  print(\"Yes\")\n",
        "else:\n",
        "  print(\"No\")\n",
        "if description.find('as') != -1:\n",
        "  print(\"Yes\")\n",
        "else:\n",
        "  print(\"No\")"
      ],
      "metadata": {
        "id": "Wl_TEcwj1LUB",
        "outputId": "351e4501-db2c-4193-c5ff-17c61c72a560",
        "colab": {
          "base_uri": "https://localhost:8080/"
        }
      },
      "execution_count": null,
      "outputs": [
        {
          "output_type": "stream",
          "name": "stdout",
          "text": [
            "DIMAS\n",
            "REAL MAN\n",
            "Dimas\n",
            "Real\n",
            "man\n",
            "1\n",
            "2\n",
            "Yes\n",
            "No\n"
          ]
        }
      ]
    }
  ]
}