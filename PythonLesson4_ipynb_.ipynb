{
  "nbformat": 4,
  "nbformat_minor": 0,
  "metadata": {
    "colab": {
      "provenance": []
    },
    "kernelspec": {
      "name": "python3",
      "display_name": "Python 3"
    },
    "language_info": {
      "name": "python"
    }
  },
  "cells": [
    {
      "cell_type": "code",
      "source": [],
      "metadata": {
        "id": "pKitYG7UJ62R"
      },
      "execution_count": null,
      "outputs": []
    },
    {
      "cell_type": "code",
      "source": [],
      "metadata": {
        "id": "lLSMREEDJ6y1"
      },
      "execution_count": null,
      "outputs": []
    },
    {
      "cell_type": "markdown",
      "source": [
        "Завдання:\n",
        "Написати гру \"Вгадай число\", при написанні коду виконай наступні умови:\n",
        "\n",
        "\n",
        "---\n",
        "*   програма приймає лише цілі числа, якщо число float - повідом користувача\n",
        "    і закінчи гру\n",
        "*   виведи число котре загадав користувач\n",
        "*   якщо користувач ввів рядок - повідом користувача і закінчи гру\n",
        "*   якщо число більше 10 - повідом користувача і закінчи гру\n",
        "*   якщо число менше 1 - повідом користувача і закінчи гру\n",
        "*   якщо число в заданому інтервалі, але не вгадане - повідом користувача, що він \"БУВ БЛИЗЬКО\" і закінчи гру\n",
        "*   якщо користувач вгадав число - ПРИВІТАй його і закінчи гру\n",
        "\n",
        "\n",
        "\n"
      ],
      "metadata": {
        "id": "zJuskMVOHsFg"
      }
    },
    {
      "cell_type": "code",
      "source": [],
      "metadata": {
        "id": "pxmbPIxxm1-l"
      },
      "execution_count": null,
      "outputs": []
    },
    {
      "cell_type": "code",
      "source": [
        "from random import randint\n",
        "num = randint(1, 10)\n",
        "print(num)\n",
        "s = input()\n",
        "if s.find('.', 0, len(s)) != -1:\n",
        "    text = s.replace('.', '2')\n",
        "    if text.isdigit() == 1:\n",
        "        print(\"Thy type of variable is float consequently it`s no execution\")\n",
        "    else:\n",
        "        print(\"Thy type of variable is string consequently it`s no execution\")\n",
        "elif s.isdigit() == 1:\n",
        "    if int(s) > 10:\n",
        "        print(\"You are looser, your digit is even bigger then 10:)))\")\n",
        "    elif int(s) < 1:\n",
        "        print(\"You are looser, your digit is even less then 1:)))\")\n",
        "    elif int(s) != num:\n",
        "        print(\"Only looser can be close as you but not to have true answer :)))\")\n",
        "    elif int(s) == num:\n",
        "        print(\"Congratulations!!!!!!!\")\n",
        "else:\n",
        "    print(\"Thy type of variable is string consequently it`s no execution\")"
      ],
      "metadata": {
        "id": "BJ5pBwMCH10I",
        "colab": {
          "base_uri": "https://localhost:8080/"
        },
        "outputId": "31f7d02b-f20f-49db-fc66-6df0381f1ab4"
      },
      "execution_count": null,
      "outputs": [
        {
          "output_type": "stream",
          "name": "stdout",
          "text": [
            "3\n",
            "a\n",
            "Thy type of variable is string consequently it`s no execution\n"
          ]
        }
      ]
    }
  ]
}