{
  "nbformat": 4,
  "nbformat_minor": 0,
  "metadata": {
    "colab": {
      "provenance": []
    },
    "kernelspec": {
      "name": "python3",
      "display_name": "Python 3"
    },
    "language_info": {
      "name": "python"
    }
  },
  "cells": [
    {
      "cell_type": "code",
      "execution_count": null,
      "metadata": {
        "id": "WQlyBzvbPKvW"
      },
      "outputs": [],
      "source": [
        "story_title = 'THE BOY WHO LIVED'\n",
        "story = \"Mr. and Mrs. Dursley, of number four, Privet Drive, were \\\n",
        "        proud to say that they were perfectly normal, thank \\\n",
        "        you very much. They were the last people you’d expect to be involved in anything strange or mysterious, because they just didn’t \\\n",
        "        hold with such nonsense. \\\n",
        "        Mr. Dursley was the director of a fi rm called Grunnings, which \\\n",
        "        made drills. He was a big, beefy man with hardly any neck, although he did have a very large mustache. Mrs. Dursley was thin \\\n",
        "        and blonde and had nearly twice the usual amount of neck, which \\\n",
        "        came in very useful as she spent so much of her time craning over \\\n",
        "        garden fences, spying on the neighbors. The Dursleys had a small \\\n",
        "        son called Dudley and in their opinion there was no fi ner boy \\\n",
        "        anywhere.\""
      ]
    },
    {
      "cell_type": "markdown",
      "source": [
        "## Завдання 1\n",
        "\n",
        "\n",
        "> Очистіть stroy від розділових знаків.\n",
        "\n",
        "\n"
      ],
      "metadata": {
        "id": "B_6cFJ2fgAfj"
      }
    },
    {
      "cell_type": "code",
      "source": [
        "story = story.replace(\"        \", '')\n",
        "story2 = story\n",
        "story2 = story2.translate(str.maketrans('', '', \".,\"))\n",
        "print(story2)"
      ],
      "metadata": {
        "id": "df_zEDzCAGxb",
        "outputId": "cbfd24be-ea05-40fd-fa63-aa554d997040",
        "colab": {
          "base_uri": "https://localhost:8080/"
        }
      },
      "execution_count": null,
      "outputs": [
        {
          "output_type": "stream",
          "name": "stdout",
          "text": [
            "Mr and Mrs Dursley of number four Privet Drive were proud to say that they were perfectly normal thank you very much They were the last people you’d expect to be involved in anything strange or mysterious because they just didn’t hold with such nonsense Mr Dursley was the director of a fi rm called Grunnings which made drills He was a big beefy man with hardly any neck although he did have a very large mustache Mrs Dursley was thin and blonde and had nearly twice the usual amount of neck which came in very useful as she spent so much of her time craning over garden fences spying on the neighbors The Dursleys had a small son called Dudley and in their opinion there was no fi ner boy anywhere\n"
          ]
        }
      ]
    },
    {
      "cell_type": "markdown",
      "source": [
        "## Завдання 2\n",
        "\n",
        "\n",
        ">Cтворіть нову змінну story_words. Вона має містити список слів story.\n",
        "\n"
      ],
      "metadata": {
        "id": "t7_rjKj7b9gW"
      }
    },
    {
      "cell_type": "code",
      "source": [
        "story_words = list(story.split())\n",
        "if(story_words[-1] ==''):\n",
        "  story_words.pop(-1)\n",
        "print(story_words)"
      ],
      "metadata": {
        "id": "S1AhlP8vZ2__",
        "outputId": "78088c58-a67d-4854-b575-13dbd385db3f",
        "colab": {
          "base_uri": "https://localhost:8080/"
        }
      },
      "execution_count": null,
      "outputs": [
        {
          "output_type": "stream",
          "name": "stdout",
          "text": [
            "['Mr.', 'and', 'Mrs.', 'Dursley,', 'of', 'number', 'four,', 'Privet', 'Drive,', 'were', 'proud', 'to', 'say', 'that', 'they', 'were', 'perfectly', 'normal,', 'thank', 'you', 'very', 'much.', 'They', 'were', 'the', 'last', 'people', 'you’d', 'expect', 'to', 'be', 'involved', 'in', 'anything', 'strange', 'or', 'mysterious,', 'because', 'they', 'just', 'didn’t', 'hold', 'with', 'such', 'nonsense.', 'Mr.', 'Dursley', 'was', 'the', 'director', 'of', 'a', 'fi', 'rm', 'called', 'Grunnings,', 'which', 'made', 'drills.', 'He', 'was', 'a', 'big,', 'beefy', 'man', 'with', 'hardly', 'any', 'neck,', 'although', 'he', 'did', 'have', 'a', 'very', 'large', 'mustache.', 'Mrs.', 'Dursley', 'was', 'thin', 'and', 'blonde', 'and', 'had', 'nearly', 'twice', 'the', 'usual', 'amount', 'of', 'neck,', 'which', 'came', 'in', 'very', 'useful', 'as', 'she', 'spent', 'so', 'much', 'of', 'her', 'time', 'craning', 'over', 'garden', 'fences,', 'spying', 'on', 'the', 'neighbors.', 'The', 'Dursleys', 'had', 'a', 'small', 'son', 'called', 'Dudley', 'and', 'in', 'their', 'opinion', 'there', 'was', 'no', 'fi', 'ner', 'boy', 'anywhere.']\n"
          ]
        }
      ]
    },
    {
      "cell_type": "markdown",
      "source": [
        "## Завдання 3\n",
        "\n",
        "\n",
        "> Створив нову зменну story_list. Вона має містити список речень змінної story"
      ],
      "metadata": {
        "id": "nn3np5JYcmUS"
      }
    },
    {
      "cell_type": "code",
      "source": [],
      "metadata": {
        "id": "zgnipgEBZ8cD"
      },
      "execution_count": null,
      "outputs": []
    },
    {
      "cell_type": "code",
      "source": [
        "story_list = list(story.split('.'))\n",
        "if(story_list[-1] ==''):\n",
        "  story_list.pop(-1)\n",
        "print(story_list)\n"
      ],
      "metadata": {
        "id": "kXzLISLHc7SH",
        "outputId": "6e7e4651-79a4-408d-a435-d65ee3ee0f81",
        "colab": {
          "base_uri": "https://localhost:8080/"
        }
      },
      "execution_count": null,
      "outputs": [
        {
          "output_type": "stream",
          "name": "stdout",
          "text": [
            "['Mr', ' and Mrs', ' Dursley, of number four, Privet Drive, were proud to say that they were perfectly normal, thank you very much', ' They were the last people you’d expect to be involved in anything strange or mysterious, because they just didn’t hold with such nonsense', ' Mr', ' Dursley was the director of a fi rm called Grunnings, which made drills', ' He was a big, beefy man with hardly any neck, although he did have a very large mustache', ' Mrs', ' Dursley was thin and blonde and had nearly twice the usual amount of neck, which came in very useful as she spent so much of her time craning over garden fences, spying on the neighbors', ' The Dursleys had a small son called Dudley and in their opinion there was no fi ner boy anywhere']\n"
          ]
        }
      ]
    },
    {
      "cell_type": "markdown",
      "source": [
        "## Завдання 4\n",
        "\n",
        "\n",
        "> Візьми змінну story_words та story_list створи з неї дві нові змінні:\n",
        "\n",
        "1) Змінна що містить число слів\n",
        "\n",
        "2) Змінна що містить число речень"
      ],
      "metadata": {
        "id": "pXRysvguc8yG"
      }
    },
    {
      "cell_type": "code",
      "source": [
        "words_num = len(story_words)\n",
        "sentence_num = len(story_list)\n",
        "print(f'{words_num=} \\n{sentence_num=}')"
      ],
      "metadata": {
        "id": "NXuDZ-wUgeQo",
        "outputId": "843c9a67-3db4-4f30-d99c-6c1834199e02",
        "colab": {
          "base_uri": "https://localhost:8080/"
        }
      },
      "execution_count": null,
      "outputs": [
        {
          "output_type": "stream",
          "name": "stdout",
          "text": [
            "words_num=132 \n",
            "sentence_num=10\n"
          ]
        }
      ]
    },
    {
      "cell_type": "markdown",
      "source": [
        "## Завдання 5\n",
        "\n",
        "\n",
        "> Додайте до story_list зміннй story_title, та зберіжіть її у нову змінну full_text_list\n",
        "\n"
      ],
      "metadata": {
        "id": "BN344zejgepp"
      }
    },
    {
      "cell_type": "code",
      "source": [
        "story_list.append(story_title)\n",
        "full_text_list = story_list\n",
        "print(full_text_list)"
      ],
      "metadata": {
        "colab": {
          "base_uri": "https://localhost:8080/"
        },
        "id": "6gTW-K_AsGoG",
        "outputId": "f0cd625b-c9ed-4841-98ce-cd70301dc90b"
      },
      "execution_count": null,
      "outputs": [
        {
          "output_type": "stream",
          "name": "stdout",
          "text": [
            "['Mr', ' and Mrs', ' Dursley, of number four, Privet Drive, were proud to say that they were perfectly normal, thank you very much', ' They were the last people you’d expect to be involved in anything strange or mysterious, because they just didn’t hold with such nonsense', ' Mr', ' Dursley was the director of a fi rm called Grunnings, which made drills', ' He was a big, beefy man with hardly any neck, although he did have a very large mustache', ' Mrs', ' Dursley was thin and blonde and had nearly twice the usual amount of neck, which came in very useful as she spent so much of her time craning over garden fences, spying on the neighbors', ' The Dursleys had a small son called Dudley and in their opinion there was no fi ner boy anywhere', 'THE BOY WHO LIVED']\n"
          ]
        }
      ]
    },
    {
      "cell_type": "markdown",
      "source": [
        "## Завдання 6\n",
        "\n",
        "\n",
        "> Видаліть заголловок великими літерами з full_text_list та зберіжіть у нову змінну without_upper\n"
      ],
      "metadata": {
        "id": "HbFY62Adg8oE"
      }
    },
    {
      "cell_type": "code",
      "source": [
        "full_text_list.pop(-1)\n",
        "without_upper= full_text_list\n",
        "print(without_upper)"
      ],
      "metadata": {
        "id": "UI1_29A-hp8e",
        "outputId": "6ee59c6a-0e8a-490d-da5b-bbd8c0c39e68",
        "colab": {
          "base_uri": "https://localhost:8080/"
        }
      },
      "execution_count": null,
      "outputs": [
        {
          "output_type": "stream",
          "name": "stdout",
          "text": [
            "['Mr', ' and Mrs', ' Dursley, of number four, Privet Drive, were proud to say that they were perfectly normal, thank you very much', ' They were the last people you’d expect to be involved in anything strange or mysterious, because they just didn’t hold with such nonsense', ' Mr', ' Dursley was the director of a fi rm called Grunnings, which made drills', ' He was a big, beefy man with hardly any neck, although he did have a very large mustache', ' Mrs', ' Dursley was thin and blonde and had nearly twice the usual amount of neck, which came in very useful as she spent so much of her time craning over garden fences, spying on the neighbors', ' The Dursleys had a small son called Dudley and in their opinion there was no fi ner boy anywhere']\n"
          ]
        }
      ]
    },
    {
      "cell_type": "markdown",
      "source": [
        "## Завдання 7\n",
        "\n",
        "\n",
        "\n",
        "> Виберіть 3 методи списків та застосуйте їх до story_words\n",
        "\n",
        "Наприклад порахуйте скільки разів ім'я Alice зустрічається в тексті\n",
        "\n",
        "**Підказка:** *використайте допоміжну функцію dir(story_words)*\n",
        "\n",
        "\n"
      ],
      "metadata": {
        "id": "fGs7CjHeh3xx"
      }
    },
    {
      "cell_type": "code",
      "source": [
        "\n",
        "print(len(story_words))\n",
        "sort_words = story_words\n",
        "sort_words.sort()\n",
        "print(sort_words)\n",
        "story_words.reverse()\n",
        "print(story_words)\n"
      ],
      "metadata": {
        "id": "BuKFcxsAi_ZW",
        "outputId": "77647ad0-622a-4068-987d-a4ce96c6da86",
        "colab": {
          "base_uri": "https://localhost:8080/"
        }
      },
      "execution_count": null,
      "outputs": [
        {
          "output_type": "stream",
          "name": "stdout",
          "text": [
            "132\n",
            "['Drive,', 'Dudley', 'Dursley', 'Dursley', 'Dursley,', 'Dursleys', 'Grunnings,', 'He', 'Mr.', 'Mr.', 'Mrs.', 'Mrs.', 'Privet', 'The', 'They', 'a', 'a', 'a', 'a', 'although', 'amount', 'and', 'and', 'and', 'and', 'any', 'anything', 'anywhere.', 'as', 'be', 'because', 'beefy', 'big,', 'blonde', 'boy', 'called', 'called', 'came', 'craning', 'did', 'didn’t', 'director', 'drills.', 'expect', 'fences,', 'fi', 'fi', 'four,', 'garden', 'had', 'had', 'hardly', 'have', 'he', 'her', 'hold', 'in', 'in', 'in', 'involved', 'just', 'large', 'last', 'made', 'man', 'much', 'much.', 'mustache.', 'mysterious,', 'nearly', 'neck,', 'neck,', 'neighbors.', 'ner', 'no', 'nonsense.', 'normal,', 'number', 'of', 'of', 'of', 'of', 'on', 'opinion', 'or', 'over', 'people', 'perfectly', 'proud', 'rm', 'say', 'she', 'small', 'so', 'son', 'spent', 'spying', 'strange', 'such', 'thank', 'that', 'the', 'the', 'the', 'the', 'their', 'there', 'they', 'they', 'thin', 'time', 'to', 'to', 'twice', 'useful', 'usual', 'very', 'very', 'very', 'was', 'was', 'was', 'was', 'were', 'were', 'were', 'which', 'which', 'with', 'with', 'you', 'you’d']\n",
            "['you’d', 'you', 'with', 'with', 'which', 'which', 'were', 'were', 'were', 'was', 'was', 'was', 'was', 'very', 'very', 'very', 'usual', 'useful', 'twice', 'to', 'to', 'time', 'thin', 'they', 'they', 'there', 'their', 'the', 'the', 'the', 'the', 'that', 'thank', 'such', 'strange', 'spying', 'spent', 'son', 'so', 'small', 'she', 'say', 'rm', 'proud', 'perfectly', 'people', 'over', 'or', 'opinion', 'on', 'of', 'of', 'of', 'of', 'number', 'normal,', 'nonsense.', 'no', 'ner', 'neighbors.', 'neck,', 'neck,', 'nearly', 'mysterious,', 'mustache.', 'much.', 'much', 'man', 'made', 'last', 'large', 'just', 'involved', 'in', 'in', 'in', 'hold', 'her', 'he', 'have', 'hardly', 'had', 'had', 'garden', 'four,', 'fi', 'fi', 'fences,', 'expect', 'drills.', 'director', 'didn’t', 'did', 'craning', 'came', 'called', 'called', 'boy', 'blonde', 'big,', 'beefy', 'because', 'be', 'as', 'anywhere.', 'anything', 'any', 'and', 'and', 'and', 'and', 'amount', 'although', 'a', 'a', 'a', 'a', 'They', 'The', 'Privet', 'Mrs.', 'Mrs.', 'Mr.', 'Mr.', 'He', 'Grunnings,', 'Dursleys', 'Dursley,', 'Dursley', 'Dursley', 'Dudley', 'Drive,']\n"
          ]
        }
      ]
    }
  ]
}