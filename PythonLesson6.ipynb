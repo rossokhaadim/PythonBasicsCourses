{
  "nbformat": 4,
  "nbformat_minor": 0,
  "metadata": {
    "colab": {
      "provenance": []
    },
    "kernelspec": {
      "name": "python3",
      "display_name": "Python 3"
    },
    "language_info": {
      "name": "python"
    }
  },
  "cells": [
    {
      "cell_type": "code",
      "execution_count": null,
      "metadata": {
        "id": "rL1CpoV2nfnQ"
      },
      "outputs": [],
      "source": [
        "burgers = [\n",
        "  {\n",
        "    \"id\": 0,\n",
        "    \"name\": \"Tribute Burger\",\n",
        "    \"description\": \"A mouth-watering honest beef burger\",\n",
        "    \"type\": \"beef\",\n",
        "    \"ingredients\": [\n",
        "      \"beef\",\n",
        "      \"american cheese\",\n",
        "      \"burger sauce\",\n",
        "      \"french mustard\",\n",
        "      \"pickes\",\n",
        "      \"onion\",\n",
        "      \"lettuce\"\n",
        "    ],\n",
        "    \"addresses\": [\n",
        "      {\n",
        "        \"addressId\": 0,\n",
        "        \"number\": \"75\",\n",
        "        \"line1\": \"Venn Street\",\n",
        "        \"line2\": \"Clapham\",\n",
        "        \"postcode\": \"SW4 0BD\",\n",
        "        \"country\": \"United Kingdom\"\n",
        "      }\n",
        "    ]\n",
        "  },\n",
        "  {\n",
        "    \"id\": 1,\n",
        "    \"name\": \"Pulled Mooshie\",\n",
        "    \"type\": \"vegan\",\n",
        "    \"description\": \"Spicy vegan burger with jackfruit\",\n",
        "    \"ingredients\": [\n",
        "      \"jackfruit\",\n",
        "      \"coleslaw\",\n",
        "      \"gluten free bun\"\n",
        "    ],\n",
        "    \"addresses\": [\n",
        "      {\n",
        "        \"addressId\": 0,\n",
        "        \"number\": \"104\",\n",
        "        \"line1\": \"Brick Lane\",\n",
        "        \"line2\": \"Shoreditch\",\n",
        "        \"postcode\": \"E1 6RL\",\n",
        "        \"country\": \"United Kingdom\"\n",
        "      }\n",
        "    ]\n",
        "  }\n",
        "]"
      ]
    },
    {
      "cell_type": "markdown",
      "source": [
        "## В тебе є два смачненькі бургери(список з двома словниками), їх опис збереженно у змінній **burgers**\n",
        "\n",
        "### Завдання 1\n",
        "\n",
        "\n",
        "> Створи новий словник інгредієнтів(ingredients), кожен ключ якого це назва інгредієнту(лише унікальні значення), які є в обох бургерах (\"beef\", \"american cheese\", \"burger sauce\", \"french mustard\" ...)\n"
      ],
      "metadata": {
        "id": "-H61Pf8806Uu"
      }
    },
    {
      "cell_type": "code",
      "source": [
        "ingredients=burgers[0][\"ingredients\"]+burgers[1][\"ingredients\"]"
      ],
      "metadata": {
        "id": "TsnZsFJQ2xOP"
      },
      "execution_count": null,
      "outputs": []
    },
    {
      "cell_type": "code",
      "source": [
        "ingredients"
      ],
      "metadata": {
        "id": "GV7zFs5xg13s",
        "outputId": "7030c082-f535-4950-8006-c6de6b588f8e",
        "colab": {
          "base_uri": "https://localhost:8080/"
        }
      },
      "execution_count": null,
      "outputs": [
        {
          "output_type": "execute_result",
          "data": {
            "text/plain": [
              "['beef',\n",
              " 'american cheese',\n",
              " 'burger sauce',\n",
              " 'french mustard',\n",
              " 'pickes',\n",
              " 'onion',\n",
              " 'lettuce',\n",
              " 'jackfruit',\n",
              " 'coleslaw',\n",
              " 'gluten free bun']"
            ]
          },
          "metadata": {},
          "execution_count": 129
        }
      ]
    },
    {
      "cell_type": "markdown",
      "source": [
        "### Завдання 2\n",
        "\n",
        "\n",
        "> Присвой кожному інгредієнту цифрове значення (від 0 до 10), що вказує на кількість інгрідієнтів в холодильнику\n"
      ],
      "metadata": {
        "id": "mBFbWWEF2yf_"
      }
    },
    {
      "cell_type": "code",
      "source": [
        "ingredients = {\n",
        "\n",
        "    'beef': 1,\n",
        " 'american cheese': 5,\n",
        " 'burger sauce': 7,\n",
        " 'french mustard': 1,\n",
        " 'pickes': 12,\n",
        " 'onion': 100,\n",
        " 'lettuce': 55,\n",
        " 'jackfruit': 12,\n",
        " 'coleslaw': 111,\n",
        " 'gluten free bun': 9\n",
        "}\n",
        "ingredients\n"
      ],
      "metadata": {
        "id": "x94wIQk63FUB",
        "colab": {
          "base_uri": "https://localhost:8080/"
        },
        "outputId": "28c4db90-84c7-48d4-a543-e52010327b1e"
      },
      "execution_count": null,
      "outputs": [
        {
          "output_type": "execute_result",
          "data": {
            "text/plain": [
              "{'beef': 1,\n",
              " 'american cheese': 5,\n",
              " 'burger sauce': 7,\n",
              " 'french mustard': 1,\n",
              " 'pickes': 12,\n",
              " 'onion': 100,\n",
              " 'lettuce': 55,\n",
              " 'jackfruit': 12,\n",
              " 'coleslaw': 111,\n",
              " 'gluten free bun': 9}"
            ]
          },
          "metadata": {},
          "execution_count": 130
        }
      ]
    },
    {
      "cell_type": "markdown",
      "source": [
        "### Завдання 3\n",
        "\n",
        "\n",
        "> Видали значення ключа \"addresses\""
      ],
      "metadata": {
        "id": "XlEi-Cdj3Gc_"
      }
    },
    {
      "cell_type": "code",
      "source": [
        "addresses1 = burgers[0][\"addresses\"]\n",
        "addresses2 = burgers[0][\"addresses\"]\n",
        "\n",
        "del burgers[0][\"addresses\"]\n",
        "del burgers[1][\"addresses\"]\n"
      ],
      "metadata": {
        "id": "KtXHgLzt5SkE"
      },
      "execution_count": null,
      "outputs": []
    },
    {
      "cell_type": "markdown",
      "source": [
        "### Завдання 4\n",
        "\n",
        "\n",
        "> Створи нову змінну 'burgers_in_ua' - це список який складаэться з 5 словників, у кожному словнику мають бути наступні ключі\n",
        "\n",
        "\n",
        "\n",
        "*   \"addressId\": унікальне id закладу(ціле число)\n",
        "*   \"name\":   назва закладу (рядок)\n",
        "*   \"street\": вулиця закладу (рядок)\n",
        "*   \"house_num\": номер будинку(ціле число)\n",
        "*   \"postcode\": поштовий код (ціле число)\n",
        "*   \"city\": місто де можна придбати(ціле число)\n",
        "\n"
      ],
      "metadata": {
        "id": "Qe4nZ6GL5S30"
      }
    },
    {
      "cell_type": "code",
      "source": [
        " burgers_in_ua = list([\n",
        "     {'addressId': 12345,\n",
        "    'name': 'U Dimona',\n",
        "    'street': 'Shevchenko street',\n",
        "    'house_num': 6,\n",
        "    'postcode': 32232,\n",
        "    'city': 'Kremenchuk'},\n",
        "     {'addressId': 54321,\n",
        "    'name': 'Burgers',\n",
        "    'street': 'Franko street',\n",
        "    'house_num': 7,\n",
        "    'postcode': 35464,\n",
        "    'city': 'Lviv'},\n",
        "    {'addressId': 42245,\n",
        "    'name': 'Hello, I`m Burger',\n",
        "    'street': 'Skoropadskyy street',\n",
        "    'house_num': 2,\n",
        "    'postcode': 76543,\n",
        "    'city': 'Kyiv'},\n",
        "    {'addressId': 98765,\n",
        "    'name': 'LOL',\n",
        "    'street': 'Sichovi Strilci street',\n",
        "    'house_num': 3,\n",
        "    'postcode': 4432432,\n",
        "    'city': 'Sumy'},\n",
        "    {'addressId': 34567,\n",
        "    'name': 'Cat burger',\n",
        "    'street': 'Skovoroda street',\n",
        "    'house_num': 8,\n",
        "    'postcode': 67890,\n",
        "    'city': 'Sevastopol'}])"
      ],
      "metadata": {
        "id": "N-512lcC69nj"
      },
      "execution_count": null,
      "outputs": []
    },
    {
      "cell_type": "code",
      "source": [
        "burgers_in_ua"
      ],
      "metadata": {
        "colab": {
          "base_uri": "https://localhost:8080/"
        },
        "id": "lD_2VXxnrWtZ",
        "outputId": "9cf4a3ae-c523-4747-e8a6-b574538f6757"
      },
      "execution_count": null,
      "outputs": [
        {
          "output_type": "execute_result",
          "data": {
            "text/plain": [
              "[{'addressId': 12345,\n",
              "  'name': 'U Dimona',\n",
              "  'street': 'Shevchenko street',\n",
              "  'house_num': 6,\n",
              "  'postcode': 32232,\n",
              "  'city': 'Kremenchuk'},\n",
              " {'addressId': 54321,\n",
              "  'name': 'Burgers',\n",
              "  'street': 'Franko street',\n",
              "  'house_num': 7,\n",
              "  'postcode': 35464,\n",
              "  'city': 'Lviv'},\n",
              " {'addressId': 42245,\n",
              "  'name': 'Hello, I`m Burger',\n",
              "  'street': 'Skoropadskyy street',\n",
              "  'house_num': 2,\n",
              "  'postcode': 76543,\n",
              "  'city': 'Kyiv'},\n",
              " {'addressId': 98765,\n",
              "  'name': 'LOL',\n",
              "  'street': 'Sichovi Strilci street',\n",
              "  'house_num': 3,\n",
              "  'postcode': 4432432,\n",
              "  'city': 'Sumy'},\n",
              " {'addressId': 34567,\n",
              "  'name': 'Cat burger',\n",
              "  'street': 'Skovoroda street',\n",
              "  'house_num': 8,\n",
              "  'postcode': 67890,\n",
              "  'city': 'Sevastopol'}]"
            ]
          },
          "metadata": {},
          "execution_count": 133
        }
      ]
    },
    {
      "cell_type": "markdown",
      "source": [
        "\n",
        "### Завдання 5\n",
        "\n",
        "\n",
        "> Ключ \"addresses\" кожного бургера має містити словник в якому зберігаються від\n",
        "1 до 3 адрес закладів з бургерами зі змінної burgers_in_ua\n",
        "\n"
      ],
      "metadata": {
        "id": "0b6-mimt6_Dw"
      }
    },
    {
      "cell_type": "code",
      "source": [
        "\n",
        "burgers_in_ua[0]['addresses']='Sichovi Strilci street', 'Shevchenko street'\n",
        "burgers_in_ua[1]['addresses']='Franko st.'\n",
        "burgers_in_ua[2]['addresses']='Shevchenko st.', 'Hreschatyk st.','Ukrainka st.'\n",
        "burgers_in_ua[3]['addresses']='Skoropandskyy st.', 'Hvylovyj st.'\n",
        "burgers_in_ua[4]['addresses']='Grushevskyy st.', 'Stus st.'"
      ],
      "metadata": {
        "id": "G4SfPm0H8YEw"
      },
      "execution_count": null,
      "outputs": []
    },
    {
      "cell_type": "code",
      "source": [
        "burgers_in_ua"
      ],
      "metadata": {
        "colab": {
          "base_uri": "https://localhost:8080/"
        },
        "id": "A1ygyigrDY1i",
        "outputId": "8a69041d-fe47-4a54-df2a-e520436a0adf"
      },
      "execution_count": null,
      "outputs": [
        {
          "output_type": "execute_result",
          "data": {
            "text/plain": [
              "[{'addressId': 12345,\n",
              "  'name': 'U Dimona',\n",
              "  'street': 'Shevchenko street',\n",
              "  'house_num': 6,\n",
              "  'postcode': 32232,\n",
              "  'city': 'Kremenchuk',\n",
              "  'addresses': ('Sichovi Strilci street', 'Shevchenko street')},\n",
              " {'addressId': 54321,\n",
              "  'name': 'Burgers',\n",
              "  'street': 'Franko street',\n",
              "  'house_num': 7,\n",
              "  'postcode': 35464,\n",
              "  'city': 'Lviv',\n",
              "  'addresses': 'Franko st.'},\n",
              " {'addressId': 42245,\n",
              "  'name': 'Hello, I`m Burger',\n",
              "  'street': 'Skoropadskyy street',\n",
              "  'house_num': 2,\n",
              "  'postcode': 76543,\n",
              "  'city': 'Kyiv',\n",
              "  'addresses': ('Shevchenko st.', 'Hreschatyk st.', 'Ukrainka st.')},\n",
              " {'addressId': 98765,\n",
              "  'name': 'LOL',\n",
              "  'street': 'Sichovi Strilci street',\n",
              "  'house_num': 3,\n",
              "  'postcode': 4432432,\n",
              "  'city': 'Sumy',\n",
              "  'addresses': ('Skoropandskyy st.', 'Hvylovyj st.')},\n",
              " {'addressId': 34567,\n",
              "  'name': 'Cat burger',\n",
              "  'street': 'Skovoroda street',\n",
              "  'house_num': 8,\n",
              "  'postcode': 67890,\n",
              "  'city': 'Sevastopol',\n",
              "  'addresses': ('Grushevskyy st.', 'Stus st.')}]"
            ]
          },
          "metadata": {},
          "execution_count": 142
        }
      ]
    },
    {
      "cell_type": "markdown",
      "source": [
        "### Завдання 6\n",
        "\n",
        "\n",
        "> Запитай користувача, який бургер він хоче: Vegan or Beef та збережи у змінну client_burger"
      ],
      "metadata": {
        "id": "sBN1qpaV8Zsw"
      }
    },
    {
      "cell_type": "code",
      "source": [
        "print('Який бургер бажаєте: Vegan or Beef?')\n",
        "client_burger = input()"
      ],
      "metadata": {
        "colab": {
          "base_uri": "https://localhost:8080/"
        },
        "id": "eTaSteh6htGP",
        "outputId": "3d79c9bc-a916-43bf-94e3-a3bc4cd66531"
      },
      "execution_count": null,
      "outputs": [
        {
          "name": "stdout",
          "output_type": "stream",
          "text": [
            "Який бургер бажаєте: Vegan or Beef?\n",
            "Beef\n"
          ]
        }
      ]
    },
    {
      "cell_type": "markdown",
      "source": [
        "### Завдання 7\n",
        "\n",
        "\n",
        "> Приведи змінну client_burger до нижнього регістру, згадай методи рядків"
      ],
      "metadata": {
        "id": "jtYy_9CXZqnh"
      }
    },
    {
      "cell_type": "code",
      "source": [
        "client_burger=client_burger.lower()\n",
        "client_burger"
      ],
      "metadata": {
        "id": "CZn0JzmOZ8EA",
        "colab": {
          "base_uri": "https://localhost:8080/",
          "height": 36
        },
        "outputId": "e17beddf-48ea-489c-fa3b-5d1d7e867f5a"
      },
      "execution_count": null,
      "outputs": [
        {
          "output_type": "execute_result",
          "data": {
            "text/plain": [
              "'beef'"
            ],
            "application/vnd.google.colaboratory.intrinsic+json": {
              "type": "string"
            }
          },
          "metadata": {},
          "execution_count": 136
        }
      ]
    },
    {
      "cell_type": "markdown",
      "source": [
        "### Завдання 8\n",
        "\n",
        "\n",
        "> Знайди бургер що обрав користувач серед доступних у змінній burgers, шукай за ключем **type**"
      ],
      "metadata": {
        "id": "YAP4eAjMY6AV"
      }
    },
    {
      "cell_type": "markdown",
      "source": [],
      "metadata": {
        "id": "-9VEbO--2nw8"
      }
    },
    {
      "cell_type": "code",
      "source": [
        "if burgers[0]['type'] == client_burger:\n",
        "  num=1\n",
        "  print(\"The first burger\")\n",
        "elif burgers[1]['type'] == client_burger:\n",
        "  num=2\n",
        "  print(\"The second burger\")"
      ],
      "metadata": {
        "id": "mEQa1KKAZ7jv",
        "colab": {
          "base_uri": "https://localhost:8080/"
        },
        "outputId": "af8fe0d4-54f4-434c-9839-87206414ac35"
      },
      "execution_count": null,
      "outputs": [
        {
          "output_type": "stream",
          "name": "stdout",
          "text": [
            "The first burger\n"
          ]
        }
      ]
    },
    {
      "cell_type": "markdown",
      "source": [
        "### Завдання 9\n",
        "\n",
        "\n",
        "> Перевір чи кількість всіх інгредієнтів цього бургера на складі(ingredients_stock) більше 0, скористуйстя оператором if"
      ],
      "metadata": {
        "id": "patUMRBaZ8sc"
      }
    },
    {
      "cell_type": "code",
      "source": [
        "if num == 1:\n",
        "  if ingredients['beef']>0 and ingredients['american cheese']>0 and ingredients['burger sauce']>0 and ingredients['french mustard']>0 and ingredients['pickes']>0 and ingredients['onion']>0 and ingredients['lettuce']>0:\n",
        "    print(\"Yes, all ingredients of beef burger exist\")\n",
        "    k=1\n",
        "  else:\n",
        "    print(\"No, some ingredients of beef burger don`t exist\")\n",
        "    k=2\n",
        "if num == 2:\n",
        "   if ingredients['jackfruit']>0 and ingredients['coleslaw']>0 and ingredients['gluten free bun']>0:\n",
        "     print(\"Yes, all ingredients of vegan burger exist\")\n",
        "     k=3\n",
        "   else:\n",
        "     print(\"No, some ingredients of vegan burger don`t exist\")\n",
        "     k=4\n",
        "\n"
      ],
      "metadata": {
        "id": "Hi7G8Z_BaP-4",
        "colab": {
          "base_uri": "https://localhost:8080/"
        },
        "outputId": "7a884ca2-6183-46a0-8a99-f452909007da"
      },
      "execution_count": null,
      "outputs": [
        {
          "output_type": "stream",
          "name": "stdout",
          "text": [
            "Yes, all ingredients of beef burger exist\n"
          ]
        }
      ]
    },
    {
      "cell_type": "markdown",
      "source": [
        "### Завдання 10\n",
        "\n",
        "\n",
        "> Якщо на складі(ingredients_stock) достатньо інгредієнтів для обраного бургера, запропонуй користувачу адреси (**addresses**) де його можна придбати."
      ],
      "metadata": {
        "id": "M3yYNa_NaQSt"
      }
    },
    {
      "cell_type": "code",
      "source": [
        "if k == 1:\n",
        "  print(addresses1)\n",
        "if k == 2:\n",
        "  print(\"Not ennough ingreadients for beef burger\")\n",
        "if k == 3:\n",
        "  print(addresses2)\n",
        "if k == 2:\n",
        "  print(\"Not ennough ingreadients for vegan burger\")"
      ],
      "metadata": {
        "id": "0MK6tbFGawIr",
        "colab": {
          "base_uri": "https://localhost:8080/"
        },
        "outputId": "ab62472a-eaa5-47a0-c0bb-7e6c8abc0bb8"
      },
      "execution_count": null,
      "outputs": [
        {
          "output_type": "stream",
          "name": "stdout",
          "text": [
            "[{'addressId': 0, 'number': '75', 'line1': 'Venn Street', 'line2': 'Clapham', 'postcode': 'SW4 0BD', 'country': 'United Kingdom'}]\n"
          ]
        }
      ]
    }
  ]
}